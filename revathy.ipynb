{
 "cells": [
  {
   "cell_type": "markdown",
   "id": "bc28f552",
   "metadata": {},
   "source": [
    "# Case study on unsupervised learning\n",
    "Try out different clustering models in the given dataset. Find the optimum number of clusters in each model and create the model with optimum number of clusters. Also learn about dB scan clustering and implement it"
   ]
  },
  {
   "cell_type": "code",
   "execution_count": 1,
   "id": "8b0eea99",
   "metadata": {},
   "outputs": [],
   "source": [
    "#importlibraries\n",
    "import numpy as np\n",
    "import pandas as pd\n",
    "import matplotlib.pyplot as plt\n",
    "import seaborn as sns"
   ]
  },
  {
   "cell_type": "code",
   "execution_count": 2,
   "id": "4c555ba7",
   "metadata": {},
   "outputs": [],
   "source": [
    "#read data set\n",
    "data=pd.read_csv(r\"C:\\Users\\user\\Downloads\\wine_clust.csv\")"
   ]
  },
  {
   "cell_type": "code",
   "execution_count": 3,
   "id": "9d917b56",
   "metadata": {},
   "outputs": [
    {
     "data": {
      "text/html": [
       "<div>\n",
       "<style scoped>\n",
       "    .dataframe tbody tr th:only-of-type {\n",
       "        vertical-align: middle;\n",
       "    }\n",
       "\n",
       "    .dataframe tbody tr th {\n",
       "        vertical-align: top;\n",
       "    }\n",
       "\n",
       "    .dataframe thead th {\n",
       "        text-align: right;\n",
       "    }\n",
       "</style>\n",
       "<table border=\"1\" class=\"dataframe\">\n",
       "  <thead>\n",
       "    <tr style=\"text-align: right;\">\n",
       "      <th></th>\n",
       "      <th>Alcohol</th>\n",
       "      <th>Malic_Acid</th>\n",
       "      <th>Ash</th>\n",
       "      <th>Ash_Alcanity</th>\n",
       "      <th>Magnesium</th>\n",
       "      <th>Total_Phenols</th>\n",
       "      <th>Flavanoids</th>\n",
       "      <th>Nonflavanoid_Phenols</th>\n",
       "      <th>Proanthocyanins</th>\n",
       "      <th>Color_Intensity</th>\n",
       "      <th>Hue</th>\n",
       "      <th>OD280</th>\n",
       "      <th>Proline</th>\n",
       "    </tr>\n",
       "  </thead>\n",
       "  <tbody>\n",
       "    <tr>\n",
       "      <th>0</th>\n",
       "      <td>14.23</td>\n",
       "      <td>1.71</td>\n",
       "      <td>2.43</td>\n",
       "      <td>15.6</td>\n",
       "      <td>127</td>\n",
       "      <td>2.80</td>\n",
       "      <td>3.06</td>\n",
       "      <td>0.28</td>\n",
       "      <td>2.29</td>\n",
       "      <td>5.64</td>\n",
       "      <td>1.04</td>\n",
       "      <td>3.92</td>\n",
       "      <td>1065</td>\n",
       "    </tr>\n",
       "    <tr>\n",
       "      <th>1</th>\n",
       "      <td>13.20</td>\n",
       "      <td>1.78</td>\n",
       "      <td>2.14</td>\n",
       "      <td>11.2</td>\n",
       "      <td>100</td>\n",
       "      <td>2.65</td>\n",
       "      <td>2.76</td>\n",
       "      <td>0.26</td>\n",
       "      <td>1.28</td>\n",
       "      <td>4.38</td>\n",
       "      <td>1.05</td>\n",
       "      <td>3.40</td>\n",
       "      <td>1050</td>\n",
       "    </tr>\n",
       "    <tr>\n",
       "      <th>2</th>\n",
       "      <td>13.16</td>\n",
       "      <td>2.36</td>\n",
       "      <td>2.67</td>\n",
       "      <td>18.6</td>\n",
       "      <td>101</td>\n",
       "      <td>2.80</td>\n",
       "      <td>3.24</td>\n",
       "      <td>0.30</td>\n",
       "      <td>2.81</td>\n",
       "      <td>5.68</td>\n",
       "      <td>1.03</td>\n",
       "      <td>3.17</td>\n",
       "      <td>1185</td>\n",
       "    </tr>\n",
       "  </tbody>\n",
       "</table>\n",
       "</div>"
      ],
      "text/plain": [
       "   Alcohol  Malic_Acid   Ash  Ash_Alcanity  Magnesium  Total_Phenols  \\\n",
       "0    14.23        1.71  2.43          15.6        127           2.80   \n",
       "1    13.20        1.78  2.14          11.2        100           2.65   \n",
       "2    13.16        2.36  2.67          18.6        101           2.80   \n",
       "\n",
       "   Flavanoids  Nonflavanoid_Phenols  Proanthocyanins  Color_Intensity   Hue  \\\n",
       "0        3.06                  0.28             2.29             5.64  1.04   \n",
       "1        2.76                  0.26             1.28             4.38  1.05   \n",
       "2        3.24                  0.30             2.81             5.68  1.03   \n",
       "\n",
       "   OD280  Proline  \n",
       "0   3.92     1065  \n",
       "1   3.40     1050  \n",
       "2   3.17     1185  "
      ]
     },
     "execution_count": 3,
     "metadata": {},
     "output_type": "execute_result"
    }
   ],
   "source": [
    "#return dataframe with few rows\n",
    "data.head(3)"
   ]
  },
  {
   "cell_type": "code",
   "execution_count": 4,
   "id": "4a3f6dd3",
   "metadata": {},
   "outputs": [
    {
     "name": "stdout",
     "output_type": "stream",
     "text": [
      "<class 'pandas.core.frame.DataFrame'>\n",
      "RangeIndex: 178 entries, 0 to 177\n",
      "Data columns (total 13 columns):\n",
      " #   Column                Non-Null Count  Dtype  \n",
      "---  ------                --------------  -----  \n",
      " 0   Alcohol               178 non-null    float64\n",
      " 1   Malic_Acid            178 non-null    float64\n",
      " 2   Ash                   178 non-null    float64\n",
      " 3   Ash_Alcanity          178 non-null    float64\n",
      " 4   Magnesium             178 non-null    int64  \n",
      " 5   Total_Phenols         178 non-null    float64\n",
      " 6   Flavanoids            178 non-null    float64\n",
      " 7   Nonflavanoid_Phenols  178 non-null    float64\n",
      " 8   Proanthocyanins       178 non-null    float64\n",
      " 9   Color_Intensity       178 non-null    float64\n",
      " 10  Hue                   178 non-null    float64\n",
      " 11  OD280                 178 non-null    float64\n",
      " 12  Proline               178 non-null    int64  \n",
      "dtypes: float64(11), int64(2)\n",
      "memory usage: 18.2 KB\n"
     ]
    }
   ],
   "source": [
    "data.info()"
   ]
  },
  {
   "cell_type": "code",
   "execution_count": 5,
   "id": "cf380f66",
   "metadata": {},
   "outputs": [
    {
     "data": {
      "text/html": [
       "<div>\n",
       "<style scoped>\n",
       "    .dataframe tbody tr th:only-of-type {\n",
       "        vertical-align: middle;\n",
       "    }\n",
       "\n",
       "    .dataframe tbody tr th {\n",
       "        vertical-align: top;\n",
       "    }\n",
       "\n",
       "    .dataframe thead th {\n",
       "        text-align: right;\n",
       "    }\n",
       "</style>\n",
       "<table border=\"1\" class=\"dataframe\">\n",
       "  <thead>\n",
       "    <tr style=\"text-align: right;\">\n",
       "      <th></th>\n",
       "      <th>Alcohol</th>\n",
       "      <th>Malic_Acid</th>\n",
       "      <th>Ash</th>\n",
       "      <th>Ash_Alcanity</th>\n",
       "      <th>Magnesium</th>\n",
       "      <th>Total_Phenols</th>\n",
       "      <th>Flavanoids</th>\n",
       "      <th>Nonflavanoid_Phenols</th>\n",
       "      <th>Proanthocyanins</th>\n",
       "      <th>Color_Intensity</th>\n",
       "      <th>Hue</th>\n",
       "      <th>OD280</th>\n",
       "      <th>Proline</th>\n",
       "    </tr>\n",
       "  </thead>\n",
       "  <tbody>\n",
       "    <tr>\n",
       "      <th>count</th>\n",
       "      <td>178.000000</td>\n",
       "      <td>178.000000</td>\n",
       "      <td>178.000000</td>\n",
       "      <td>178.000000</td>\n",
       "      <td>178.000000</td>\n",
       "      <td>178.000000</td>\n",
       "      <td>178.000000</td>\n",
       "      <td>178.000000</td>\n",
       "      <td>178.000000</td>\n",
       "      <td>178.000000</td>\n",
       "      <td>178.000000</td>\n",
       "      <td>178.000000</td>\n",
       "      <td>178.000000</td>\n",
       "    </tr>\n",
       "    <tr>\n",
       "      <th>mean</th>\n",
       "      <td>13.000618</td>\n",
       "      <td>2.336348</td>\n",
       "      <td>2.366517</td>\n",
       "      <td>19.494944</td>\n",
       "      <td>99.741573</td>\n",
       "      <td>2.295112</td>\n",
       "      <td>2.029270</td>\n",
       "      <td>0.361854</td>\n",
       "      <td>1.590899</td>\n",
       "      <td>5.058090</td>\n",
       "      <td>0.957449</td>\n",
       "      <td>2.611685</td>\n",
       "      <td>746.893258</td>\n",
       "    </tr>\n",
       "    <tr>\n",
       "      <th>std</th>\n",
       "      <td>0.811827</td>\n",
       "      <td>1.117146</td>\n",
       "      <td>0.274344</td>\n",
       "      <td>3.339564</td>\n",
       "      <td>14.282484</td>\n",
       "      <td>0.625851</td>\n",
       "      <td>0.998859</td>\n",
       "      <td>0.124453</td>\n",
       "      <td>0.572359</td>\n",
       "      <td>2.318286</td>\n",
       "      <td>0.228572</td>\n",
       "      <td>0.709990</td>\n",
       "      <td>314.907474</td>\n",
       "    </tr>\n",
       "    <tr>\n",
       "      <th>min</th>\n",
       "      <td>11.030000</td>\n",
       "      <td>0.740000</td>\n",
       "      <td>1.360000</td>\n",
       "      <td>10.600000</td>\n",
       "      <td>70.000000</td>\n",
       "      <td>0.980000</td>\n",
       "      <td>0.340000</td>\n",
       "      <td>0.130000</td>\n",
       "      <td>0.410000</td>\n",
       "      <td>1.280000</td>\n",
       "      <td>0.480000</td>\n",
       "      <td>1.270000</td>\n",
       "      <td>278.000000</td>\n",
       "    </tr>\n",
       "    <tr>\n",
       "      <th>25%</th>\n",
       "      <td>12.362500</td>\n",
       "      <td>1.602500</td>\n",
       "      <td>2.210000</td>\n",
       "      <td>17.200000</td>\n",
       "      <td>88.000000</td>\n",
       "      <td>1.742500</td>\n",
       "      <td>1.205000</td>\n",
       "      <td>0.270000</td>\n",
       "      <td>1.250000</td>\n",
       "      <td>3.220000</td>\n",
       "      <td>0.782500</td>\n",
       "      <td>1.937500</td>\n",
       "      <td>500.500000</td>\n",
       "    </tr>\n",
       "    <tr>\n",
       "      <th>50%</th>\n",
       "      <td>13.050000</td>\n",
       "      <td>1.865000</td>\n",
       "      <td>2.360000</td>\n",
       "      <td>19.500000</td>\n",
       "      <td>98.000000</td>\n",
       "      <td>2.355000</td>\n",
       "      <td>2.135000</td>\n",
       "      <td>0.340000</td>\n",
       "      <td>1.555000</td>\n",
       "      <td>4.690000</td>\n",
       "      <td>0.965000</td>\n",
       "      <td>2.780000</td>\n",
       "      <td>673.500000</td>\n",
       "    </tr>\n",
       "    <tr>\n",
       "      <th>75%</th>\n",
       "      <td>13.677500</td>\n",
       "      <td>3.082500</td>\n",
       "      <td>2.557500</td>\n",
       "      <td>21.500000</td>\n",
       "      <td>107.000000</td>\n",
       "      <td>2.800000</td>\n",
       "      <td>2.875000</td>\n",
       "      <td>0.437500</td>\n",
       "      <td>1.950000</td>\n",
       "      <td>6.200000</td>\n",
       "      <td>1.120000</td>\n",
       "      <td>3.170000</td>\n",
       "      <td>985.000000</td>\n",
       "    </tr>\n",
       "    <tr>\n",
       "      <th>max</th>\n",
       "      <td>14.830000</td>\n",
       "      <td>5.800000</td>\n",
       "      <td>3.230000</td>\n",
       "      <td>30.000000</td>\n",
       "      <td>162.000000</td>\n",
       "      <td>3.880000</td>\n",
       "      <td>5.080000</td>\n",
       "      <td>0.660000</td>\n",
       "      <td>3.580000</td>\n",
       "      <td>13.000000</td>\n",
       "      <td>1.710000</td>\n",
       "      <td>4.000000</td>\n",
       "      <td>1680.000000</td>\n",
       "    </tr>\n",
       "  </tbody>\n",
       "</table>\n",
       "</div>"
      ],
      "text/plain": [
       "          Alcohol  Malic_Acid         Ash  Ash_Alcanity   Magnesium  \\\n",
       "count  178.000000  178.000000  178.000000    178.000000  178.000000   \n",
       "mean    13.000618    2.336348    2.366517     19.494944   99.741573   \n",
       "std      0.811827    1.117146    0.274344      3.339564   14.282484   \n",
       "min     11.030000    0.740000    1.360000     10.600000   70.000000   \n",
       "25%     12.362500    1.602500    2.210000     17.200000   88.000000   \n",
       "50%     13.050000    1.865000    2.360000     19.500000   98.000000   \n",
       "75%     13.677500    3.082500    2.557500     21.500000  107.000000   \n",
       "max     14.830000    5.800000    3.230000     30.000000  162.000000   \n",
       "\n",
       "       Total_Phenols  Flavanoids  Nonflavanoid_Phenols  Proanthocyanins  \\\n",
       "count     178.000000  178.000000            178.000000       178.000000   \n",
       "mean        2.295112    2.029270              0.361854         1.590899   \n",
       "std         0.625851    0.998859              0.124453         0.572359   \n",
       "min         0.980000    0.340000              0.130000         0.410000   \n",
       "25%         1.742500    1.205000              0.270000         1.250000   \n",
       "50%         2.355000    2.135000              0.340000         1.555000   \n",
       "75%         2.800000    2.875000              0.437500         1.950000   \n",
       "max         3.880000    5.080000              0.660000         3.580000   \n",
       "\n",
       "       Color_Intensity         Hue       OD280      Proline  \n",
       "count       178.000000  178.000000  178.000000   178.000000  \n",
       "mean          5.058090    0.957449    2.611685   746.893258  \n",
       "std           2.318286    0.228572    0.709990   314.907474  \n",
       "min           1.280000    0.480000    1.270000   278.000000  \n",
       "25%           3.220000    0.782500    1.937500   500.500000  \n",
       "50%           4.690000    0.965000    2.780000   673.500000  \n",
       "75%           6.200000    1.120000    3.170000   985.000000  \n",
       "max          13.000000    1.710000    4.000000  1680.000000  "
      ]
     },
     "execution_count": 5,
     "metadata": {},
     "output_type": "execute_result"
    }
   ],
   "source": [
    "#statistical summary of data\n",
    "data.describe()"
   ]
  },
  {
   "cell_type": "code",
   "execution_count": 6,
   "id": "02d04bb2",
   "metadata": {},
   "outputs": [
    {
     "data": {
      "text/plain": [
       "(178, 13)"
      ]
     },
     "execution_count": 6,
     "metadata": {},
     "output_type": "execute_result"
    }
   ],
   "source": [
    "#shape of data\n",
    "data.shape"
   ]
  },
  {
   "cell_type": "code",
   "execution_count": 7,
   "id": "6468b8cb",
   "metadata": {},
   "outputs": [
    {
     "data": {
      "text/plain": [
       "Alcohol                 float64\n",
       "Malic_Acid              float64\n",
       "Ash                     float64\n",
       "Ash_Alcanity            float64\n",
       "Magnesium                 int64\n",
       "Total_Phenols           float64\n",
       "Flavanoids              float64\n",
       "Nonflavanoid_Phenols    float64\n",
       "Proanthocyanins         float64\n",
       "Color_Intensity         float64\n",
       "Hue                     float64\n",
       "OD280                   float64\n",
       "Proline                   int64\n",
       "dtype: object"
      ]
     },
     "execution_count": 7,
     "metadata": {},
     "output_type": "execute_result"
    }
   ],
   "source": [
    "#check for datatypes\n",
    "data.dtypes"
   ]
  },
  {
   "cell_type": "code",
   "execution_count": 8,
   "id": "fc58a689",
   "metadata": {},
   "outputs": [
    {
     "data": {
      "text/plain": [
       "Index(['Alcohol', 'Malic_Acid', 'Ash', 'Ash_Alcanity', 'Magnesium',\n",
       "       'Total_Phenols', 'Flavanoids', 'Nonflavanoid_Phenols',\n",
       "       'Proanthocyanins', 'Color_Intensity', 'Hue', 'OD280', 'Proline'],\n",
       "      dtype='object')"
      ]
     },
     "execution_count": 8,
     "metadata": {},
     "output_type": "execute_result"
    }
   ],
   "source": [
    "#check for colums\n",
    "data.columns"
   ]
  },
  {
   "cell_type": "code",
   "execution_count": 9,
   "id": "d500447d",
   "metadata": {},
   "outputs": [
    {
     "data": {
      "text/plain": [
       "Alcohol                 0\n",
       "Malic_Acid              0\n",
       "Ash                     0\n",
       "Ash_Alcanity            0\n",
       "Magnesium               0\n",
       "Total_Phenols           0\n",
       "Flavanoids              0\n",
       "Nonflavanoid_Phenols    0\n",
       "Proanthocyanins         0\n",
       "Color_Intensity         0\n",
       "Hue                     0\n",
       "OD280                   0\n",
       "Proline                 0\n",
       "dtype: int64"
      ]
     },
     "execution_count": 9,
     "metadata": {},
     "output_type": "execute_result"
    }
   ],
   "source": [
    "#check for null values\n",
    "data.isna().sum()"
   ]
  },
  {
   "cell_type": "markdown",
   "id": "616293e9",
   "metadata": {},
   "source": [
    "# kmeans "
   ]
  },
  {
   "cell_type": "code",
   "execution_count": 10,
   "id": "fc75b2ef",
   "metadata": {},
   "outputs": [],
   "source": [
    "from sklearn.cluster import KMeans\n"
   ]
  },
  {
   "cell_type": "code",
   "execution_count": 11,
   "id": "b707dd16",
   "metadata": {},
   "outputs": [
    {
     "name": "stderr",
     "output_type": "stream",
     "text": [
      "C:\\Users\\user\\anaconda3\\lib\\site-packages\\sklearn\\cluster\\_kmeans.py:1036: UserWarning: KMeans is known to have a memory leak on Windows with MKL, when there are less chunks than available threads. You can avoid it by setting the environment variable OMP_NUM_THREADS=1.\n",
      "  warnings.warn(\n"
     ]
    },
    {
     "data": {
      "text/plain": [
       "<function matplotlib.pyplot.show(close=None, block=None)>"
      ]
     },
     "execution_count": 11,
     "metadata": {},
     "output_type": "execute_result"
    },
    {
     "data": {
      "image/png": "[encoded data removed]",
      "text/plain": [
       "<Figure size 640x480 with 1 Axes>"
      ]
     },
     "metadata": {},
     "output_type": "display_data"
    }
   ],
   "source": [
    "#elbow method\n",
    "wcss=[]\n",
    "for i in range(1,13):\n",
    "    kmeans=KMeans(n_clusters=i,init='k-means++',random_state=42)\n",
    "    kmeans.fit(data)\n",
    "    wcss.append(kmeans.inertia_)\n",
    "plt.plot(range(1,13),wcss)    \n",
    "plt.title('the elbow method') \n",
    "plt.xlabel('no of clustures')\n",
    "plt.ylabel('wcss value')\n",
    "plt.show"
   ]
  },
  {
   "cell_type": "code",
   "execution_count": 12,
   "id": "bd0e088f",
   "metadata": {},
   "outputs": [],
   "source": [
    "#select clusture as 3\n",
    "kmeans=KMeans(n_clusters=3,init='k-means++',random_state=42)\n",
    "y_kmeans=kmeans.fit_predict(data)"
   ]
  },
  {
   "cell_type": "code",
   "execution_count": 13,
   "id": "c0d72e55",
   "metadata": {},
   "outputs": [
    {
     "data": {
      "text/plain": [
       "array([1, 1, 1, 1, 2, 1, 1, 1, 1, 1, 1, 1, 1, 1, 1, 1, 1, 1, 1, 2, 2, 2,\n",
       "       1, 1, 2, 2, 1, 1, 2, 1, 1, 1, 1, 1, 1, 2, 2, 1, 1, 2, 2, 1, 1, 2,\n",
       "       2, 1, 1, 1, 1, 1, 1, 1, 1, 1, 1, 1, 1, 1, 1, 0, 2, 0, 2, 0, 0, 2,\n",
       "       0, 0, 2, 2, 2, 0, 0, 1, 2, 0, 0, 0, 2, 0, 0, 2, 2, 0, 0, 0, 0, 0,\n",
       "       2, 2, 0, 0, 0, 0, 0, 2, 2, 0, 2, 0, 2, 0, 0, 0, 2, 0, 0, 0, 0, 2,\n",
       "       0, 0, 2, 0, 0, 0, 0, 0, 0, 0, 2, 0, 0, 0, 0, 0, 0, 0, 0, 0, 2, 0,\n",
       "       0, 2, 2, 2, 2, 0, 0, 0, 2, 2, 0, 0, 2, 2, 0, 2, 2, 0, 0, 0, 0, 2,\n",
       "       2, 2, 0, 2, 2, 2, 0, 2, 0, 2, 2, 0, 2, 2, 2, 2, 0, 0, 2, 2, 2, 2,\n",
       "       2, 0])"
      ]
     },
     "execution_count": 13,
     "metadata": {},
     "output_type": "execute_result"
    }
   ],
   "source": [
    "y_kmeans"
   ]
  },
  {
   "cell_type": "code",
   "execution_count": 14,
   "id": "347a632f",
   "metadata": {},
   "outputs": [],
   "source": [
    "#silhouette score"
   ]
  },
  {
   "cell_type": "code",
   "execution_count": 15,
   "id": "29b08ed7",
   "metadata": {},
   "outputs": [],
   "source": [
    "from sklearn.metrics import silhouette_score"
   ]
  },
  {
   "cell_type": "code",
   "execution_count": 16,
   "id": "7cb38760",
   "metadata": {},
   "outputs": [],
   "source": [
    "sil_avg=silhouette_score(data,y_kmeans)"
   ]
  },
  {
   "cell_type": "code",
   "execution_count": 17,
   "id": "fcf612f6",
   "metadata": {},
   "outputs": [
    {
     "name": "stdout",
     "output_type": "stream",
     "text": [
      "silhouette score  0.571138193786884\n"
     ]
    }
   ],
   "source": [
    "print('silhouette score ',sil_avg)"
   ]
  },
  {
   "cell_type": "markdown",
   "id": "a740b1bf",
   "metadata": {},
   "source": [
    "# agglomerative clustering"
   ]
  },
  {
   "cell_type": "code",
   "execution_count": 18,
   "id": "ac3af308",
   "metadata": {},
   "outputs": [],
   "source": [
    "import scipy.cluster.hierarchy as sch"
   ]
  },
  {
   "cell_type": "code",
   "execution_count": 19,
   "id": "a04bb92b",
   "metadata": {},
   "outputs": [
    {
     "data": {
      "image/png": "[encoded data removed]",
      "text/plain": [
       "<Figure size 640x480 with 1 Axes>"
      ]
     },
     "metadata": {},
     "output_type": "display_data"
    }
   ],
   "source": [
    "#dendrogram\n",
    "dendrogram=sch.dendrogram(sch.linkage(data,method='ward'))\n",
    "plt.title('dendrogram')\n",
    "plt.xlabel('data points')\n",
    "plt.ylabel('euclidian dist')\n",
    "plt.show()"
   ]
  },
  {
   "cell_type": "code",
   "execution_count": 20,
   "id": "b4bed61d",
   "metadata": {},
   "outputs": [],
   "source": [
    "from sklearn.cluster import AgglomerativeClustering"
   ]
  },
  {
   "cell_type": "code",
   "execution_count": 21,
   "id": "b0f96081",
   "metadata": {},
   "outputs": [],
   "source": [
    "hc=AgglomerativeClustering(n_clusters=2,affinity='euclidean',linkage='ward')\n",
    "y_hc=hc.fit_predict(data)"
   ]
  },
  {
   "cell_type": "code",
   "execution_count": 22,
   "id": "fe470ddc",
   "metadata": {},
   "outputs": [
    {
     "data": {
      "text/plain": [
       "array([1, 1, 1, 1, 0, 1, 1, 1, 1, 1, 1, 1, 1, 1, 1, 1, 1, 1, 1, 0, 0, 0,\n",
       "       1, 1, 0, 0, 1, 1, 0, 1, 1, 1, 1, 1, 1, 0, 0, 1, 1, 0, 0, 1, 1, 0,\n",
       "       0, 1, 1, 1, 1, 1, 1, 1, 1, 1, 1, 1, 1, 1, 1, 0, 0, 0, 0, 0, 0, 0,\n",
       "       0, 0, 0, 0, 0, 0, 0, 1, 0, 0, 0, 0, 0, 0, 0, 0, 0, 0, 0, 0, 0, 0,\n",
       "       0, 0, 0, 0, 0, 0, 0, 1, 0, 0, 0, 0, 0, 0, 0, 0, 0, 0, 0, 0, 0, 0,\n",
       "       0, 0, 0, 0, 0, 0, 0, 0, 0, 0, 0, 0, 0, 0, 0, 0, 0, 0, 0, 0, 0, 0,\n",
       "       0, 0, 0, 0, 0, 0, 0, 0, 0, 0, 0, 0, 0, 0, 0, 0, 0, 0, 0, 0, 0, 0,\n",
       "       0, 0, 0, 0, 0, 0, 0, 0, 0, 0, 0, 0, 0, 0, 0, 0, 0, 0, 0, 0, 0, 0,\n",
       "       0, 0], dtype=int64)"
      ]
     },
     "execution_count": 22,
     "metadata": {},
     "output_type": "execute_result"
    }
   ],
   "source": [
    "y_hc"
   ]
  },
  {
   "cell_type": "code",
   "execution_count": 23,
   "id": "58c3ca65",
   "metadata": {},
   "outputs": [],
   "source": [
    "sil_avg1=silhouette_score(data,y_hc)"
   ]
  },
  {
   "cell_type": "code",
   "execution_count": 24,
   "id": "529fc0f2",
   "metadata": {},
   "outputs": [
    {
     "name": "stdout",
     "output_type": "stream",
     "text": [
      "silhouette score  0.6587292996216912\n"
     ]
    }
   ],
   "source": [
    "print('silhouette score ',sil_avg1)"
   ]
  },
  {
   "cell_type": "markdown",
   "id": "725c29d4",
   "metadata": {},
   "source": [
    "# DBSCAN clustering(density based clustering)"
   ]
  },
  {
   "cell_type": "code",
   "execution_count": 25,
   "id": "23733121",
   "metadata": {},
   "outputs": [],
   "source": [
    "from sklearn.cluster import DBSCAN\n",
    "cluster = DBSCAN(eps=20, min_samples=5).fit(data)\n",
    "\n"
   ]
  },
  {
   "cell_type": "code",
   "execution_count": 26,
   "id": "38ecf6ad",
   "metadata": {},
   "outputs": [
    {
     "data": {
      "text/plain": [
       "array([-1,  0, -1, -1,  3, -1,  1,  1,  0,  0, -1,  1, -1, -1, -1, -1,  1,\n",
       "       -1, -1,  2, -1, -1,  0,  0,  2,  2, -1,  1, -1,  0,  1, -1, -1, -1,\n",
       "       -1, -1,  2, -1,  0, -1, -1,  0, -1,  3,  2,  0,  0, -1,  0,  1, -1,\n",
       "        1, -1, -1,  0, -1, -1,  1,  1,  4,  3,  4,  3,  4,  5,  3,  4,  4,\n",
       "        3, -1,  2,  4,  4, -1,  2,  4,  4,  4, -1,  4, -1,  3,  3,  4,  4,\n",
       "        4,  4,  3,  3,  3,  4,  4,  4, -1,  5, -1, -1,  4,  3,  4,  3,  3,\n",
       "        4,  4,  3, -1,  4,  4, -1,  3,  3, -1,  3,  4,  4,  4,  4,  5,  4,\n",
       "        3,  3,  4,  5,  4,  4,  4,  5,  4,  5,  3, -1,  4,  3,  3,  3,  3,\n",
       "        3,  4,  3,  3,  3, -1,  4,  3,  2,  2,  4,  3,  3,  3, -1, -1, -1,\n",
       "        3,  3,  3,  4,  2,  3,  3,  4,  3,  3,  3,  3,  4,  3,  3,  3,  3,\n",
       "        4,  4,  3,  3,  3,  2,  2,  3], dtype=int64)"
      ]
     },
     "execution_count": 26,
     "metadata": {},
     "output_type": "execute_result"
    }
   ],
   "source": [
    "c=cluster.labels_\n",
    "c\n"
   ]
  },
  {
   "cell_type": "code",
   "execution_count": 27,
   "id": "cc00dbe7",
   "metadata": {},
   "outputs": [],
   "source": [
    "# Number of clusters in labels, ignoring noise if present.\n",
    "n_clusters_ = len(set(c)) - (1 if -1 in c else 0)"
   ]
  },
  {
   "cell_type": "code",
   "execution_count": 28,
   "id": "b6be6b58",
   "metadata": {},
   "outputs": [
    {
     "data": {
      "text/plain": [
       "6"
      ]
     },
     "execution_count": 28,
     "metadata": {},
     "output_type": "execute_result"
    }
   ],
   "source": [
    "n_clusters_"
   ]
  },
  {
   "cell_type": "code",
   "execution_count": 29,
   "id": "3dc3a231",
   "metadata": {},
   "outputs": [
    {
     "data": {
      "text/plain": [
       "0.2019757987409921"
      ]
     },
     "execution_count": 29,
     "metadata": {},
     "output_type": "execute_result"
    }
   ],
   "source": [
    "sil_avg2=silhouette_score(data,c)\n",
    "sil_avg2"
   ]
  },
  {
   "cell_type": "code",
   "execution_count": 30,
   "id": "09f66d6e",
   "metadata": {},
   "outputs": [],
   "source": [
    "#DECIDING OPTIMAL VALUE FOR EPSILON"
   ]
  },
  {
   "cell_type": "code",
   "execution_count": 31,
   "id": "22f5ce9a",
   "metadata": {},
   "outputs": [],
   "source": [
    "from sklearn.neighbors import NearestNeighbors"
   ]
  },
  {
   "cell_type": "code",
   "execution_count": 32,
   "id": "d2f911f9",
   "metadata": {},
   "outputs": [],
   "source": [
    "neigh=NearestNeighbors(n_neighbors=2)"
   ]
  },
  {
   "cell_type": "code",
   "execution_count": 33,
   "id": "d3529f52",
   "metadata": {},
   "outputs": [],
   "source": [
    "nbrs=neigh.fit(data)"
   ]
  },
  {
   "cell_type": "code",
   "execution_count": 34,
   "id": "95df3327",
   "metadata": {},
   "outputs": [],
   "source": [
    "distances,indices = nbrs.kneighbors(data)"
   ]
  },
  {
   "cell_type": "code",
   "execution_count": 35,
   "id": "10555523",
   "metadata": {},
   "outputs": [
    {
     "data": {
      "text/plain": [
       "array([[  0.        ,  10.3928052 ],\n",
       "       [  0.        ,   6.78638343],\n",
       "       [  0.        ,  12.2969915 ],\n",
       "       [  0.        ,  30.09196903],\n",
       "       [  0.        ,  17.72868015],\n",
       "       [  0.        ,  30.09196903],\n",
       "       [  0.        ,   6.23935093],\n",
       "       [  0.        ,  15.3305512 ],\n",
       "       [  0.        ,   3.27007645],\n",
       "       [  0.        ,   3.27007645],\n",
       "       [  0.        ,   5.41997232],\n",
       "       [  0.        ,   5.29867908],\n",
       "       [  0.        ,  25.17260018],\n",
       "       [  0.        ,   2.94961014],\n",
       "       [  0.        ,  33.05906986],\n",
       "       [  0.        ,  17.67303596],\n",
       "       [  0.        ,  13.47668728],\n",
       "       [  0.        ,  10.1335137 ],\n",
       "       [  0.        , 133.22215582],\n",
       "       [  0.        ,   9.59942186],\n",
       "       [  0.        ,  17.51458535],\n",
       "       [  0.        ,  16.7830897 ],\n",
       "       [  0.        ,   5.18481437],\n",
       "       [  0.        ,   6.3684535 ],\n",
       "       [  0.        ,  16.612098  ],\n",
       "       [  0.        ,  11.14076748],\n",
       "       [  0.        ,  13.16761937],\n",
       "       [  0.        ,   5.29867908],\n",
       "       [  0.        ,   8.7187155 ],\n",
       "       [  0.        ,   5.18481437],\n",
       "       [  0.        ,   9.19089767],\n",
       "       [  0.        ,   5.41997232],\n",
       "       [  0.        ,   6.48193644],\n",
       "       [  0.        ,  34.91639157],\n",
       "       [  0.        ,  10.05469542],\n",
       "       [  0.        ,   8.7187155 ],\n",
       "       [  0.        ,   6.17615576],\n",
       "       [  0.        ,  11.1040308 ],\n",
       "       [  0.        ,   6.3684535 ],\n",
       "       [  0.        ,  13.67347798],\n",
       "       [  0.        ,  17.51458535],\n",
       "       [  0.        ,   7.05973087],\n",
       "       [  0.        ,  10.05469542],\n",
       "       [  0.        ,   4.7846421 ],\n",
       "       [  0.        ,   6.17615576],\n",
       "       [  0.        ,  15.27273387],\n",
       "       [  0.        ,   6.23825296],\n",
       "       [  0.        ,   6.48193644],\n",
       "       [  0.        ,   6.23825296],\n",
       "       [  0.        ,  12.07374424],\n",
       "       [  0.        ,   2.94961014],\n",
       "       [  0.        ,   9.52865678],\n",
       "       [  0.        ,  12.2969915 ],\n",
       "       [  0.        ,  60.85220867],\n",
       "       [  0.        ,  10.3928052 ],\n",
       "       [  0.        ,  10.1335137 ],\n",
       "       [  0.        ,  22.68218684],\n",
       "       [  0.        ,   9.52865678],\n",
       "       [  0.        ,   9.19089767],\n",
       "       [  0.        ,  10.09274492],\n",
       "       [  0.        ,   4.7846421 ],\n",
       "       [  0.        ,   4.00372327],\n",
       "       [  0.        ,   6.61083958],\n",
       "       [  0.        ,   6.02668234],\n",
       "       [  0.        ,  11.41958843],\n",
       "       [  0.        ,   5.00984032],\n",
       "       [  0.        ,   9.48382834],\n",
       "       [  0.        ,   2.65471279],\n",
       "       [  0.        ,  10.80710414],\n",
       "       [  0.        ,  35.41838506],\n",
       "       [  0.        ,  13.51896283],\n",
       "       [  0.        ,   5.80591939],\n",
       "       [  0.        ,   8.2428325 ],\n",
       "       [  0.        ,  29.40539406],\n",
       "       [  0.        ,   7.69095573],\n",
       "       [  0.        ,  11.44644486],\n",
       "       [  0.        ,  10.05637111],\n",
       "       [  0.        ,  14.04590332],\n",
       "       [  0.        ,  13.67347798],\n",
       "       [  0.        ,  11.20732796],\n",
       "       [  0.        ,  12.38165982],\n",
       "       [  0.        ,   8.26086557],\n",
       "       [  0.        ,   9.47598544],\n",
       "       [  0.        ,   6.30237257],\n",
       "       [  0.        ,   7.52514452],\n",
       "       [  0.        ,   4.00372327],\n",
       "       [  0.        ,   4.67362814],\n",
       "       [  0.        ,   7.64159015],\n",
       "       [  0.        ,   8.25576768],\n",
       "       [  0.        ,   9.47598544],\n",
       "       [  0.        ,   9.50830164],\n",
       "       [  0.        ,  13.71577923],\n",
       "       [  0.        ,   6.3350217 ],\n",
       "       [  0.        ,  12.38165982],\n",
       "       [  0.        ,  11.11910068],\n",
       "       [  0.        ,  54.3927725 ],\n",
       "       [  0.        ,  13.67932016],\n",
       "       [  0.        ,   8.49109534],\n",
       "       [  0.        ,   7.63179533],\n",
       "       [  0.        ,   5.32056388],\n",
       "       [  0.        ,  11.83614802],\n",
       "       [  0.        ,   3.47925279],\n",
       "       [  0.        ,  11.00652534],\n",
       "       [  0.        ,   6.02668234],\n",
       "       [  0.        ,   8.25576768],\n",
       "       [  0.        ,   4.98254955],\n",
       "       [  0.        ,   2.65471279],\n",
       "       [  0.        ,   7.74248022],\n",
       "       [  0.        ,   4.98254955],\n",
       "       [  0.        ,   5.41789627],\n",
       "       [  0.        ,   9.74282813],\n",
       "       [  0.        ,  10.34109279],\n",
       "       [  0.        ,   8.1382492 ],\n",
       "       [  0.        ,   8.49109534],\n",
       "       [  0.        ,   6.65284901],\n",
       "       [  0.        ,   5.32056388],\n",
       "       [  0.        ,   4.67362814],\n",
       "       [  0.        ,  11.11910068],\n",
       "       [  0.        ,   9.64855948],\n",
       "       [  0.        ,   3.47925279],\n",
       "       [  0.        ,   6.61083958],\n",
       "       [  0.        ,  19.07967767],\n",
       "       [  0.        ,  13.10595666],\n",
       "       [  0.        ,   4.46960848],\n",
       "       [  0.        ,   4.53049666],\n",
       "       [  0.        ,   4.46960848],\n",
       "       [  0.        ,  10.82345139],\n",
       "       [  0.        ,   9.28263432],\n",
       "       [  0.        ,  10.82345139],\n",
       "       [  0.        ,   9.22796836],\n",
       "       [  0.        ,  13.42565455],\n",
       "       [  0.        ,  12.80732212],\n",
       "       [  0.        ,   4.78493469],\n",
       "       [  0.        ,   8.1382492 ],\n",
       "       [  0.        ,   8.8659912 ],\n",
       "       [  0.        ,  12.16447697],\n",
       "       [  0.        ,   7.7658805 ],\n",
       "       [  0.        ,   5.9715827 ],\n",
       "       [  0.        ,   9.22796836],\n",
       "       [  0.        ,  11.54613355],\n",
       "       [  0.        ,  10.14001479],\n",
       "       [  0.        ,  16.7830897 ],\n",
       "       [  0.        ,   5.9715827 ],\n",
       "       [  0.        ,  12.68220407],\n",
       "       [  0.        ,  12.17651839],\n",
       "       [  0.        ,  16.612098  ],\n",
       "       [  0.        ,   8.10029012],\n",
       "       [  0.        ,   7.99490463],\n",
       "       [  0.        ,   8.8659912 ],\n",
       "       [  0.        ,  15.5540027 ],\n",
       "       [  0.        ,  14.04590332],\n",
       "       [  0.        ,  19.07967767],\n",
       "       [  0.        ,  21.80777384],\n",
       "       [  0.        ,   7.36287987],\n",
       "       [  0.        ,  14.29175287],\n",
       "       [  0.        ,   7.7658805 ],\n",
       "       [  0.        ,  10.72645786],\n",
       "       [  0.        ,  10.84988018],\n",
       "       [  0.        ,   9.459963  ],\n",
       "       [  0.        ,   5.97646216],\n",
       "       [  0.        ,   2.61070872],\n",
       "       [  0.        ,   5.43518169],\n",
       "       [  0.        ,   9.74282813],\n",
       "       [  0.        ,   5.43518169],\n",
       "       [  0.        ,   5.97646216],\n",
       "       [  0.        ,   2.61070872],\n",
       "       [  0.        ,  16.55178238],\n",
       "       [  0.        ,  10.32989351],\n",
       "       [  0.        ,   3.88500965],\n",
       "       [  0.        ,  13.42565455],\n",
       "       [  0.        ,   8.25532555],\n",
       "       [  0.        ,   8.2428325 ],\n",
       "       [  0.        ,   7.63179533],\n",
       "       [  0.        ,  12.59901583],\n",
       "       [  0.        ,   3.88500965],\n",
       "       [  0.        ,   5.35888981],\n",
       "       [  0.        ,   5.35888981],\n",
       "       [  0.        ,   4.78493469]])"
      ]
     },
     "execution_count": 35,
     "metadata": {},
     "output_type": "execute_result"
    }
   ],
   "source": [
    "distances"
   ]
  },
  {
   "cell_type": "code",
   "execution_count": 36,
   "id": "ced42904",
   "metadata": {},
   "outputs": [
    {
     "data": {
      "text/plain": [
       "array([[  0,  54],\n",
       "       [  1,   8],\n",
       "       [  2,  52],\n",
       "       [  3,   5],\n",
       "       [  4,  68],\n",
       "       [  5,   3],\n",
       "       [  6,  27],\n",
       "       [  7,  16],\n",
       "       [  8,   9],\n",
       "       [  9,   8],\n",
       "       [ 10,  31],\n",
       "       [ 11,  27],\n",
       "       [ 12,  15],\n",
       "       [ 13,  50],\n",
       "       [ 14,  31],\n",
       "       [ 15,   7],\n",
       "       [ 16,  58],\n",
       "       [ 17,  55],\n",
       "       [ 18,  14],\n",
       "       [ 19, 176],\n",
       "       [ 20,  40],\n",
       "       [ 21, 141],\n",
       "       [ 22,  29],\n",
       "       [ 23,  38],\n",
       "       [ 24, 145],\n",
       "       [ 25, 175],\n",
       "       [ 26,   2],\n",
       "       [ 27,  11],\n",
       "       [ 28,  35],\n",
       "       [ 29,  22],\n",
       "       [ 30,  58],\n",
       "       [ 31,  10],\n",
       "       [ 32,  47],\n",
       "       [ 33,  49],\n",
       "       [ 34,  42],\n",
       "       [ 35,  28],\n",
       "       [ 36,  44],\n",
       "       [ 37,  42],\n",
       "       [ 38,  23],\n",
       "       [ 39,  78],\n",
       "       [ 40,  20],\n",
       "       [ 41,  29],\n",
       "       [ 42,  34],\n",
       "       [ 43,  60],\n",
       "       [ 44,  36],\n",
       "       [ 45,  34],\n",
       "       [ 46,  48],\n",
       "       [ 47,  32],\n",
       "       [ 48,  46],\n",
       "       [ 49,  57],\n",
       "       [ 50,  13],\n",
       "       [ 51,  57],\n",
       "       [ 52,   2],\n",
       "       [ 53,  12],\n",
       "       [ 54,   0],\n",
       "       [ 55,  17],\n",
       "       [ 56,  47],\n",
       "       [ 57,  51],\n",
       "       [ 58,  30],\n",
       "       [ 59,  84],\n",
       "       [ 60,  43],\n",
       "       [ 61,  85],\n",
       "       [ 62, 120],\n",
       "       [ 63, 103],\n",
       "       [ 64, 117],\n",
       "       [ 65,  60],\n",
       "       [ 66,  67],\n",
       "       [ 67, 106],\n",
       "       [ 68, 168],\n",
       "       [ 69,  78],\n",
       "       [ 70,  36],\n",
       "       [ 71, 115],\n",
       "       [ 72, 171],\n",
       "       [ 73,  56],\n",
       "       [ 74,  44],\n",
       "       [ 75, 102],\n",
       "       [ 76, 114],\n",
       "       [ 77, 150],\n",
       "       [ 78,  39],\n",
       "       [ 79, 127],\n",
       "       [ 80,  93],\n",
       "       [ 81, 136],\n",
       "       [ 82,  89],\n",
       "       [ 83, 165],\n",
       "       [ 84, 142],\n",
       "       [ 85,  61],\n",
       "       [ 86, 116],\n",
       "       [ 87, 101],\n",
       "       [ 88, 104],\n",
       "       [ 89,  82],\n",
       "       [ 90, 107],\n",
       "       [ 91,  85],\n",
       "       [ 92, 116],\n",
       "       [ 93,  80],\n",
       "       [ 94, 117],\n",
       "       [ 95,  73],\n",
       "       [ 96, 130],\n",
       "       [ 97, 113],\n",
       "       [ 98, 172],\n",
       "       [ 99, 115],\n",
       "       [100,  81],\n",
       "       [101, 119],\n",
       "       [102, 113],\n",
       "       [103,  63],\n",
       "       [104,  88],\n",
       "       [105, 108],\n",
       "       [106,  67],\n",
       "       [107, 116],\n",
       "       [108, 105],\n",
       "       [109,  65],\n",
       "       [110, 162],\n",
       "       [111, 105],\n",
       "       [112, 133],\n",
       "       [113,  97],\n",
       "       [114, 124],\n",
       "       [115,  99],\n",
       "       [116,  86],\n",
       "       [117,  94],\n",
       "       [118, 125],\n",
       "       [119, 101],\n",
       "       [120,  62],\n",
       "       [121, 151],\n",
       "       [122,  64],\n",
       "       [123, 125],\n",
       "       [124, 125],\n",
       "       [125, 123],\n",
       "       [126, 128],\n",
       "       [127,  72],\n",
       "       [128, 126],\n",
       "       [129, 138],\n",
       "       [130, 169],\n",
       "       [131, 142],\n",
       "       [132, 177],\n",
       "       [133, 112],\n",
       "       [134, 148],\n",
       "       [135, 167],\n",
       "       [136, 155],\n",
       "       [137, 142],\n",
       "       [138, 129],\n",
       "       [139, 133],\n",
       "       [140, 133],\n",
       "       [141,  21],\n",
       "       [142, 137],\n",
       "       [143, 177],\n",
       "       [144,  19],\n",
       "       [145,  24],\n",
       "       [146, 103],\n",
       "       [147, 159],\n",
       "       [148, 134],\n",
       "       [149, 110],\n",
       "       [150,  77],\n",
       "       [151, 121],\n",
       "       [152,  75],\n",
       "       [153,  65],\n",
       "       [154,  62],\n",
       "       [155, 136],\n",
       "       [156, 171],\n",
       "       [157,  74],\n",
       "       [158, 172],\n",
       "       [159, 164],\n",
       "       [160, 165],\n",
       "       [161, 163],\n",
       "       [162, 110],\n",
       "       [163, 161],\n",
       "       [164, 159],\n",
       "       [165, 160],\n",
       "       [166, 161],\n",
       "       [167,  88],\n",
       "       [168, 174],\n",
       "       [169, 130],\n",
       "       [170, 137],\n",
       "       [171,  72],\n",
       "       [172,  98],\n",
       "       [173, 174],\n",
       "       [174, 168],\n",
       "       [175, 176],\n",
       "       [176, 175],\n",
       "       [177, 132]], dtype=int64)"
      ]
     },
     "execution_count": 36,
     "metadata": {},
     "output_type": "execute_result"
    }
   ],
   "source": [
    "indices"
   ]
  },
  {
   "cell_type": "code",
   "execution_count": 37,
   "id": "f7afe497",
   "metadata": {},
   "outputs": [],
   "source": [
    "distances=np.sort(distances,axis=0)\n",
    "distances=distances[:,1]"
   ]
  },
  {
   "cell_type": "code",
   "execution_count": 38,
   "id": "3abcc37c",
   "metadata": {},
   "outputs": [
    {
     "data": {
      "text/plain": [
       "[<matplotlib.lines.Line2D at 0x134a64ef2b0>]"
      ]
     },
     "execution_count": 38,
     "metadata": {},
     "output_type": "execute_result"
    },
    {
     "data": {
      "image/png": "[encoded data removed]",
      "text/plain": [
       "<Figure size 640x480 with 1 Axes>"
      ]
     },
     "metadata": {},
     "output_type": "display_data"
    }
   ],
   "source": [
    "plt.plot(distances)"
   ]
  },
  {
   "cell_type": "code",
   "execution_count": 39,
   "id": "f7ed1fe2",
   "metadata": {},
   "outputs": [],
   "source": [
    "cluster = DBSCAN(eps=40, min_samples=6).fit(data)\n"
   ]
  },
  {
   "cell_type": "code",
   "execution_count": 40,
   "id": "29610d64",
   "metadata": {},
   "outputs": [],
   "source": [
    "c=cluster.labels_\n",
    "\n"
   ]
  },
  {
   "cell_type": "code",
   "execution_count": 41,
   "id": "fff86f43",
   "metadata": {},
   "outputs": [],
   "source": [
    "sil_avg3=silhouette_score(data,c)"
   ]
  },
  {
   "cell_type": "code",
   "execution_count": 42,
   "id": "2cb7f346",
   "metadata": {},
   "outputs": [
    {
     "data": {
      "text/plain": [
       "0.5336262747425518"
      ]
     },
     "execution_count": 42,
     "metadata": {},
     "output_type": "execute_result"
    }
   ],
   "source": [
    "sil_avg3"
   ]
  },
  {
   "cell_type": "markdown",
   "id": "9c004e3a",
   "metadata": {},
   "source": [
    "# PCA"
   ]
  },
  {
   "cell_type": "code",
   "execution_count": 43,
   "id": "0af7dd36",
   "metadata": {},
   "outputs": [
    {
     "data": {
      "text/plain": [
       "(178, 13)"
      ]
     },
     "execution_count": 43,
     "metadata": {},
     "output_type": "execute_result"
    }
   ],
   "source": [
    "#check shape of data\n",
    "data.shape"
   ]
  },
  {
   "cell_type": "code",
   "execution_count": 44,
   "id": "9c215871",
   "metadata": {},
   "outputs": [],
   "source": [
    "#standard scaling"
   ]
  },
  {
   "cell_type": "code",
   "execution_count": 45,
   "id": "9ef1ef02",
   "metadata": {},
   "outputs": [],
   "source": [
    "from sklearn.preprocessing import StandardScaler"
   ]
  },
  {
   "cell_type": "code",
   "execution_count": 46,
   "id": "329e83b2",
   "metadata": {},
   "outputs": [],
   "source": [
    "scalar=StandardScaler()"
   ]
  },
  {
   "cell_type": "code",
   "execution_count": 47,
   "id": "58732d57",
   "metadata": {},
   "outputs": [],
   "source": [
    "scaled_data=scalar.fit_transform(data)\n"
   ]
  },
  {
   "cell_type": "code",
   "execution_count": 48,
   "id": "02ebeed4",
   "metadata": {},
   "outputs": [
    {
     "data": {
      "text/html": [
       "<div>\n",
       "<style scoped>\n",
       "    .dataframe tbody tr th:only-of-type {\n",
       "        vertical-align: middle;\n",
       "    }\n",
       "\n",
       "    .dataframe tbody tr th {\n",
       "        vertical-align: top;\n",
       "    }\n",
       "\n",
       "    .dataframe thead th {\n",
       "        text-align: right;\n",
       "    }\n",
       "</style>\n",
       "<table border=\"1\" class=\"dataframe\">\n",
       "  <thead>\n",
       "    <tr style=\"text-align: right;\">\n",
       "      <th></th>\n",
       "      <th>Alcohol</th>\n",
       "      <th>Malic_Acid</th>\n",
       "      <th>Ash</th>\n",
       "      <th>Ash_Alcanity</th>\n",
       "      <th>Magnesium</th>\n",
       "      <th>Total_Phenols</th>\n",
       "      <th>Flavanoids</th>\n",
       "      <th>Nonflavanoid_Phenols</th>\n",
       "      <th>Proanthocyanins</th>\n",
       "      <th>Color_Intensity</th>\n",
       "      <th>Hue</th>\n",
       "      <th>OD280</th>\n",
       "      <th>Proline</th>\n",
       "    </tr>\n",
       "  </thead>\n",
       "  <tbody>\n",
       "    <tr>\n",
       "      <th>count</th>\n",
       "      <td>178.000000</td>\n",
       "      <td>178.000000</td>\n",
       "      <td>178.000000</td>\n",
       "      <td>178.000000</td>\n",
       "      <td>178.000000</td>\n",
       "      <td>178.000000</td>\n",
       "      <td>178.000000</td>\n",
       "      <td>178.000000</td>\n",
       "      <td>178.000000</td>\n",
       "      <td>178.000000</td>\n",
       "      <td>178.000000</td>\n",
       "      <td>178.000000</td>\n",
       "      <td>178.000000</td>\n",
       "    </tr>\n",
       "    <tr>\n",
       "      <th>mean</th>\n",
       "      <td>13.000618</td>\n",
       "      <td>2.336348</td>\n",
       "      <td>2.366517</td>\n",
       "      <td>19.494944</td>\n",
       "      <td>99.741573</td>\n",
       "      <td>2.295112</td>\n",
       "      <td>2.029270</td>\n",
       "      <td>0.361854</td>\n",
       "      <td>1.590899</td>\n",
       "      <td>5.058090</td>\n",
       "      <td>0.957449</td>\n",
       "      <td>2.611685</td>\n",
       "      <td>746.893258</td>\n",
       "    </tr>\n",
       "    <tr>\n",
       "      <th>std</th>\n",
       "      <td>0.811827</td>\n",
       "      <td>1.117146</td>\n",
       "      <td>0.274344</td>\n",
       "      <td>3.339564</td>\n",
       "      <td>14.282484</td>\n",
       "      <td>0.625851</td>\n",
       "      <td>0.998859</td>\n",
       "      <td>0.124453</td>\n",
       "      <td>0.572359</td>\n",
       "      <td>2.318286</td>\n",
       "      <td>0.228572</td>\n",
       "      <td>0.709990</td>\n",
       "      <td>314.907474</td>\n",
       "    </tr>\n",
       "    <tr>\n",
       "      <th>min</th>\n",
       "      <td>11.030000</td>\n",
       "      <td>0.740000</td>\n",
       "      <td>1.360000</td>\n",
       "      <td>10.600000</td>\n",
       "      <td>70.000000</td>\n",
       "      <td>0.980000</td>\n",
       "      <td>0.340000</td>\n",
       "      <td>0.130000</td>\n",
       "      <td>0.410000</td>\n",
       "      <td>1.280000</td>\n",
       "      <td>0.480000</td>\n",
       "      <td>1.270000</td>\n",
       "      <td>278.000000</td>\n",
       "    </tr>\n",
       "    <tr>\n",
       "      <th>25%</th>\n",
       "      <td>12.362500</td>\n",
       "      <td>1.602500</td>\n",
       "      <td>2.210000</td>\n",
       "      <td>17.200000</td>\n",
       "      <td>88.000000</td>\n",
       "      <td>1.742500</td>\n",
       "      <td>1.205000</td>\n",
       "      <td>0.270000</td>\n",
       "      <td>1.250000</td>\n",
       "      <td>3.220000</td>\n",
       "      <td>0.782500</td>\n",
       "      <td>1.937500</td>\n",
       "      <td>500.500000</td>\n",
       "    </tr>\n",
       "    <tr>\n",
       "      <th>50%</th>\n",
       "      <td>13.050000</td>\n",
       "      <td>1.865000</td>\n",
       "      <td>2.360000</td>\n",
       "      <td>19.500000</td>\n",
       "      <td>98.000000</td>\n",
       "      <td>2.355000</td>\n",
       "      <td>2.135000</td>\n",
       "      <td>0.340000</td>\n",
       "      <td>1.555000</td>\n",
       "      <td>4.690000</td>\n",
       "      <td>0.965000</td>\n",
       "      <td>2.780000</td>\n",
       "      <td>673.500000</td>\n",
       "    </tr>\n",
       "    <tr>\n",
       "      <th>75%</th>\n",
       "      <td>13.677500</td>\n",
       "      <td>3.082500</td>\n",
       "      <td>2.557500</td>\n",
       "      <td>21.500000</td>\n",
       "      <td>107.000000</td>\n",
       "      <td>2.800000</td>\n",
       "      <td>2.875000</td>\n",
       "      <td>0.437500</td>\n",
       "      <td>1.950000</td>\n",
       "      <td>6.200000</td>\n",
       "      <td>1.120000</td>\n",
       "      <td>3.170000</td>\n",
       "      <td>985.000000</td>\n",
       "    </tr>\n",
       "    <tr>\n",
       "      <th>max</th>\n",
       "      <td>14.830000</td>\n",
       "      <td>5.800000</td>\n",
       "      <td>3.230000</td>\n",
       "      <td>30.000000</td>\n",
       "      <td>162.000000</td>\n",
       "      <td>3.880000</td>\n",
       "      <td>5.080000</td>\n",
       "      <td>0.660000</td>\n",
       "      <td>3.580000</td>\n",
       "      <td>13.000000</td>\n",
       "      <td>1.710000</td>\n",
       "      <td>4.000000</td>\n",
       "      <td>1680.000000</td>\n",
       "    </tr>\n",
       "  </tbody>\n",
       "</table>\n",
       "</div>"
      ],
      "text/plain": [
       "          Alcohol  Malic_Acid         Ash  Ash_Alcanity   Magnesium  \\\n",
       "count  178.000000  178.000000  178.000000    178.000000  178.000000   \n",
       "mean    13.000618    2.336348    2.366517     19.494944   99.741573   \n",
       "std      0.811827    1.117146    0.274344      3.339564   14.282484   \n",
       "min     11.030000    0.740000    1.360000     10.600000   70.000000   \n",
       "25%     12.362500    1.602500    2.210000     17.200000   88.000000   \n",
       "50%     13.050000    1.865000    2.360000     19.500000   98.000000   \n",
       "75%     13.677500    3.082500    2.557500     21.500000  107.000000   \n",
       "max     14.830000    5.800000    3.230000     30.000000  162.000000   \n",
       "\n",
       "       Total_Phenols  Flavanoids  Nonflavanoid_Phenols  Proanthocyanins  \\\n",
       "count     178.000000  178.000000            178.000000       178.000000   \n",
       "mean        2.295112    2.029270              0.361854         1.590899   \n",
       "std         0.625851    0.998859              0.124453         0.572359   \n",
       "min         0.980000    0.340000              0.130000         0.410000   \n",
       "25%         1.742500    1.205000              0.270000         1.250000   \n",
       "50%         2.355000    2.135000              0.340000         1.555000   \n",
       "75%         2.800000    2.875000              0.437500         1.950000   \n",
       "max         3.880000    5.080000              0.660000         3.580000   \n",
       "\n",
       "       Color_Intensity         Hue       OD280      Proline  \n",
       "count       178.000000  178.000000  178.000000   178.000000  \n",
       "mean          5.058090    0.957449    2.611685   746.893258  \n",
       "std           2.318286    0.228572    0.709990   314.907474  \n",
       "min           1.280000    0.480000    1.270000   278.000000  \n",
       "25%           3.220000    0.782500    1.937500   500.500000  \n",
       "50%           4.690000    0.965000    2.780000   673.500000  \n",
       "75%           6.200000    1.120000    3.170000   985.000000  \n",
       "max          13.000000    1.710000    4.000000  1680.000000  "
      ]
     },
     "execution_count": 48,
     "metadata": {},
     "output_type": "execute_result"
    }
   ],
   "source": [
    "data.describe()"
   ]
  },
  {
   "cell_type": "code",
   "execution_count": 49,
   "id": "6b8738b1",
   "metadata": {},
   "outputs": [],
   "source": [
    "scaled_data=pd.DataFrame(scaled_data,columns=data.columns)"
   ]
  },
  {
   "cell_type": "code",
   "execution_count": 50,
   "id": "0a7a626f",
   "metadata": {},
   "outputs": [
    {
     "data": {
      "text/html": [
       "<div>\n",
       "<style scoped>\n",
       "    .dataframe tbody tr th:only-of-type {\n",
       "        vertical-align: middle;\n",
       "    }\n",
       "\n",
       "    .dataframe tbody tr th {\n",
       "        vertical-align: top;\n",
       "    }\n",
       "\n",
       "    .dataframe thead th {\n",
       "        text-align: right;\n",
       "    }\n",
       "</style>\n",
       "<table border=\"1\" class=\"dataframe\">\n",
       "  <thead>\n",
       "    <tr style=\"text-align: right;\">\n",
       "      <th></th>\n",
       "      <th>Alcohol</th>\n",
       "      <th>Malic_Acid</th>\n",
       "      <th>Ash</th>\n",
       "      <th>Ash_Alcanity</th>\n",
       "      <th>Magnesium</th>\n",
       "      <th>Total_Phenols</th>\n",
       "      <th>Flavanoids</th>\n",
       "      <th>Nonflavanoid_Phenols</th>\n",
       "      <th>Proanthocyanins</th>\n",
       "      <th>Color_Intensity</th>\n",
       "      <th>Hue</th>\n",
       "      <th>OD280</th>\n",
       "      <th>Proline</th>\n",
       "    </tr>\n",
       "  </thead>\n",
       "  <tbody>\n",
       "    <tr>\n",
       "      <th>0</th>\n",
       "      <td>1.518613</td>\n",
       "      <td>-0.562250</td>\n",
       "      <td>0.232053</td>\n",
       "      <td>-1.169593</td>\n",
       "      <td>1.913905</td>\n",
       "      <td>0.808997</td>\n",
       "      <td>1.034819</td>\n",
       "      <td>-0.659563</td>\n",
       "      <td>1.224884</td>\n",
       "      <td>0.251717</td>\n",
       "      <td>0.362177</td>\n",
       "      <td>1.847920</td>\n",
       "      <td>1.013009</td>\n",
       "    </tr>\n",
       "    <tr>\n",
       "      <th>1</th>\n",
       "      <td>0.246290</td>\n",
       "      <td>-0.499413</td>\n",
       "      <td>-0.827996</td>\n",
       "      <td>-2.490847</td>\n",
       "      <td>0.018145</td>\n",
       "      <td>0.568648</td>\n",
       "      <td>0.733629</td>\n",
       "      <td>-0.820719</td>\n",
       "      <td>-0.544721</td>\n",
       "      <td>-0.293321</td>\n",
       "      <td>0.406051</td>\n",
       "      <td>1.113449</td>\n",
       "      <td>0.965242</td>\n",
       "    </tr>\n",
       "    <tr>\n",
       "      <th>2</th>\n",
       "      <td>0.196879</td>\n",
       "      <td>0.021231</td>\n",
       "      <td>1.109334</td>\n",
       "      <td>-0.268738</td>\n",
       "      <td>0.088358</td>\n",
       "      <td>0.808997</td>\n",
       "      <td>1.215533</td>\n",
       "      <td>-0.498407</td>\n",
       "      <td>2.135968</td>\n",
       "      <td>0.269020</td>\n",
       "      <td>0.318304</td>\n",
       "      <td>0.788587</td>\n",
       "      <td>1.395148</td>\n",
       "    </tr>\n",
       "    <tr>\n",
       "      <th>3</th>\n",
       "      <td>1.691550</td>\n",
       "      <td>-0.346811</td>\n",
       "      <td>0.487926</td>\n",
       "      <td>-0.809251</td>\n",
       "      <td>0.930918</td>\n",
       "      <td>2.491446</td>\n",
       "      <td>1.466525</td>\n",
       "      <td>-0.981875</td>\n",
       "      <td>1.032155</td>\n",
       "      <td>1.186068</td>\n",
       "      <td>-0.427544</td>\n",
       "      <td>1.184071</td>\n",
       "      <td>2.334574</td>\n",
       "    </tr>\n",
       "    <tr>\n",
       "      <th>4</th>\n",
       "      <td>0.295700</td>\n",
       "      <td>0.227694</td>\n",
       "      <td>1.840403</td>\n",
       "      <td>0.451946</td>\n",
       "      <td>1.281985</td>\n",
       "      <td>0.808997</td>\n",
       "      <td>0.663351</td>\n",
       "      <td>0.226796</td>\n",
       "      <td>0.401404</td>\n",
       "      <td>-0.319276</td>\n",
       "      <td>0.362177</td>\n",
       "      <td>0.449601</td>\n",
       "      <td>-0.037874</td>\n",
       "    </tr>\n",
       "  </tbody>\n",
       "</table>\n",
       "</div>"
      ],
      "text/plain": [
       "    Alcohol  Malic_Acid       Ash  Ash_Alcanity  Magnesium  Total_Phenols  \\\n",
       "0  1.518613   -0.562250  0.232053     -1.169593   1.913905       0.808997   \n",
       "1  0.246290   -0.499413 -0.827996     -2.490847   0.018145       0.568648   \n",
       "2  0.196879    0.021231  1.109334     -0.268738   0.088358       0.808997   \n",
       "3  1.691550   -0.346811  0.487926     -0.809251   0.930918       2.491446   \n",
       "4  0.295700    0.227694  1.840403      0.451946   1.281985       0.808997   \n",
       "\n",
       "   Flavanoids  Nonflavanoid_Phenols  Proanthocyanins  Color_Intensity  \\\n",
       "0    1.034819             -0.659563         1.224884         0.251717   \n",
       "1    0.733629             -0.820719        -0.544721        -0.293321   \n",
       "2    1.215533             -0.498407         2.135968         0.269020   \n",
       "3    1.466525             -0.981875         1.032155         1.186068   \n",
       "4    0.663351              0.226796         0.401404        -0.319276   \n",
       "\n",
       "        Hue     OD280   Proline  \n",
       "0  0.362177  1.847920  1.013009  \n",
       "1  0.406051  1.113449  0.965242  \n",
       "2  0.318304  0.788587  1.395148  \n",
       "3 -0.427544  1.184071  2.334574  \n",
       "4  0.362177  0.449601 -0.037874  "
      ]
     },
     "execution_count": 50,
     "metadata": {},
     "output_type": "execute_result"
    }
   ],
   "source": [
    "scaled_data.head()"
   ]
  },
  {
   "cell_type": "code",
   "execution_count": 51,
   "id": "5f50c822",
   "metadata": {},
   "outputs": [],
   "source": [
    "from sklearn.decomposition import PCA"
   ]
  },
  {
   "cell_type": "code",
   "execution_count": 52,
   "id": "1625abf1",
   "metadata": {},
   "outputs": [
    {
     "data": {
      "text/plain": [
       "PCA(n_components=0.97)"
      ]
     },
     "execution_count": 52,
     "metadata": {},
     "output_type": "execute_result"
    }
   ],
   "source": [
    "pca=PCA(n_components=0.97)\n",
    "pca.fit(data)"
   ]
  },
  {
   "cell_type": "code",
   "execution_count": 53,
   "id": "c74d0a72",
   "metadata": {},
   "outputs": [],
   "source": [
    "x_pca=pca.transform(data)"
   ]
  },
  {
   "cell_type": "code",
   "execution_count": 54,
   "id": "343538a5",
   "metadata": {},
   "outputs": [
    {
     "data": {
      "text/plain": [
       "(178, 1)"
      ]
     },
     "execution_count": 54,
     "metadata": {},
     "output_type": "execute_result"
    }
   ],
   "source": [
    "x_pca.shape"
   ]
  },
  {
   "cell_type": "code",
   "execution_count": 55,
   "id": "7e826f85",
   "metadata": {},
   "outputs": [
    {
     "data": {
      "text/plain": [
       "array([[ 318.56297929],\n",
       "       [ 303.09741966],\n",
       "       [ 438.06113292],\n",
       "       [ 733.24013935],\n",
       "       [ -11.5714285 ],\n",
       "       [ 703.23119174],\n",
       "       [ 542.97158087],\n",
       "       [ 548.40185984],\n",
       "       [ 298.0368628 ],\n",
       "       [ 298.04955314],\n",
       "       [ 763.07971194],\n",
       "       [ 532.94322773],\n",
       "       [ 572.83441039],\n",
       "       [ 402.92535829],\n",
       "       [ 800.05339386],\n",
       "       [ 563.245578  ],\n",
       "       [ 533.37965064],\n",
       "       [ 383.31759108],\n",
       "       [ 933.1183875 ],\n",
       "       [  98.40317748],\n",
       "       [  33.593594  ],\n",
       "       [  23.14643754],\n",
       "       [ 288.09303022],\n",
       "       [ 267.98151253],\n",
       "       [  98.01988577],\n",
       "       [  83.49874396],\n",
       "       [ 447.92559622],\n",
       "       [ 537.91916502],\n",
       "       [ 168.2104676 ],\n",
       "       [ 288.00824708],\n",
       "       [ 538.0264521 ],\n",
       "       [ 768.09293886],\n",
       "       [ 243.1507509 ],\n",
       "       [ 488.60128005],\n",
       "       [ 348.231007  ],\n",
       "       [ 173.07995743],\n",
       "       [ 133.28642355],\n",
       "       [ 358.01855918],\n",
       "       [ 273.04443152],\n",
       "       [  13.64300211],\n",
       "       [  48.42964225],\n",
       "       [ 287.88409217],\n",
       "       [ 348.09534818],\n",
       "       [ -66.81465539],\n",
       "       [ 138.22700988],\n",
       "       [ 333.25480583],\n",
       "       [ 318.11184847],\n",
       "       [ 238.11148508],\n",
       "       [ 313.11991539],\n",
       "       [ 513.18774802],\n",
       "       [ 402.93901716],\n",
       "       [ 517.92896327],\n",
       "       [ 443.26641129],\n",
       "       [ 628.28607099],\n",
       "       [ 313.39761268],\n",
       "       [ 373.33329122],\n",
       "       [ 223.41710636],\n",
       "       [ 523.0728514 ],\n",
       "       [ 538.18209732],\n",
       "       [-227.03269045],\n",
       "       [ -66.850122  ],\n",
       "       [-296.82443689],\n",
       "       [-116.97047258],\n",
       "       [-327.0591256 ],\n",
       "       [-391.75248644],\n",
       "       [ -68.90576044],\n",
       "       [-245.21252398],\n",
       "       [-237.24141029],\n",
       "       [   3.29615599],\n",
       "       [ -27.96612073],\n",
       "       [ 123.13013831],\n",
       "       [-337.10412249],\n",
       "       [-275.09602588],\n",
       "       [ 238.71675655],\n",
       "       [ 139.09405664],\n",
       "       [-318.8763289 ],\n",
       "       [-355.06025251],\n",
       "       [-246.63359745],\n",
       "       [   3.77168966],\n",
       "       [-283.84224764],\n",
       "       [-469.05935031],\n",
       "       [ -33.13133925],\n",
       "       [-117.29039201],\n",
       "       [-232.13298838],\n",
       "       [-226.95329942],\n",
       "       [-296.85215173],\n",
       "       [-252.04639193],\n",
       "       [-185.10885737],\n",
       "       [ -67.18075184],\n",
       "       [-122.4313264 ],\n",
       "       [-267.1853332 ],\n",
       "       [-297.10441468],\n",
       "       [-252.21388507],\n",
       "       [-457.02221494],\n",
       "       [-401.85127409],\n",
       "       [ 191.18339677],\n",
       "       [-121.27917775],\n",
       "       [-319.0882728 ],\n",
       "       [ -87.08029256],\n",
       "       [-341.04090017],\n",
       "       [ -36.93161455],\n",
       "       [-185.07371349],\n",
       "       [-308.88238661],\n",
       "       [-332.08929638],\n",
       "       [ -75.15313775],\n",
       "       [-432.00974192],\n",
       "       [-237.20669709],\n",
       "       [-259.14836773],\n",
       "       [-434.95778011],\n",
       "       [ -66.99069577],\n",
       "       [-184.73643853],\n",
       "       [-422.04287362],\n",
       "       [-139.81866316],\n",
       "       [-313.06094816],\n",
       "       [-362.12963311],\n",
       "       [-340.11500621],\n",
       "       [-252.10947206],\n",
       "       [-401.69597348],\n",
       "       [-375.17109237],\n",
       "       [-183.09792918],\n",
       "       [-121.94524135],\n",
       "       [-281.53456912],\n",
       "       [-381.82677823],\n",
       "       [-367.08938005],\n",
       "       [-367.1571747 ],\n",
       "       [-369.10360097],\n",
       "       [-395.07883646],\n",
       "       [-281.03036871],\n",
       "       [-405.0612878 ],\n",
       "       [-167.23764182],\n",
       "       [-116.47300036],\n",
       "       [-216.78453998],\n",
       "       [-186.91511197],\n",
       "       [-146.76952962],\n",
       "       [ -97.1329736 ],\n",
       "       [ -51.98204687],\n",
       "       [ -27.09793075],\n",
       "       [-231.95153407],\n",
       "       [-167.07624576],\n",
       "       [-156.86804454],\n",
       "       [-146.94648958],\n",
       "       [  32.90429275],\n",
       "       [-226.92620969],\n",
       "       [-197.00434749],\n",
       "       [ 108.3126773 ],\n",
       "       [  83.11826261],\n",
       "       [-332.19583999],\n",
       "       [-122.12609209],\n",
       "       [ -97.01938927],\n",
       "       [-196.6248066 ],\n",
       "       [-246.44919923],\n",
       "       [-266.62878805],\n",
       "       [-321.57074094],\n",
       "       [ -71.89765871],\n",
       "       [-106.8166178 ],\n",
       "       [ -22.0202568 ],\n",
       "       [-267.03173231],\n",
       "       [ 132.99984125],\n",
       "       [ -86.91399859],\n",
       "       [-127.06128965],\n",
       "       [-227.06883575],\n",
       "       [ -66.75543118],\n",
       "       [-176.76509843],\n",
       "       [ -71.76839793],\n",
       "       [-132.04824836],\n",
       "       [-227.07784455],\n",
       "       [ -51.68950646],\n",
       "       [ -62.08501112],\n",
       "       [   3.18276465],\n",
       "       [-116.67481805],\n",
       "       [-236.92120794],\n",
       "       [-277.08357826],\n",
       "       [ -87.02740263],\n",
       "       [  -6.98021096],\n",
       "       [   3.13160468],\n",
       "       [  88.45807369],\n",
       "       [  93.45624185],\n",
       "       [-186.94319027]])"
      ]
     },
     "execution_count": 55,
     "metadata": {},
     "output_type": "execute_result"
    }
   ],
   "source": [
    "x_pca"
   ]
  },
  {
   "cell_type": "code",
   "execution_count": 56,
   "id": "3433fca0",
   "metadata": {},
   "outputs": [],
   "source": [
    "data_pca=pd.DataFrame(x_pca)"
   ]
  },
  {
   "cell_type": "code",
   "execution_count": 57,
   "id": "49597c8d",
   "metadata": {},
   "outputs": [
    {
     "data": {
      "text/plain": [
       "(178, 1)"
      ]
     },
     "execution_count": 57,
     "metadata": {},
     "output_type": "execute_result"
    }
   ],
   "source": [
    "data_pca.shape"
   ]
  },
  {
   "cell_type": "code",
   "execution_count": 58,
   "id": "5bd7762f",
   "metadata": {},
   "outputs": [
    {
     "name": "stderr",
     "output_type": "stream",
     "text": [
      "C:\\Users\\user\\anaconda3\\lib\\site-packages\\sklearn\\cluster\\_kmeans.py:1036: UserWarning: KMeans is known to have a memory leak on Windows with MKL, when there are less chunks than available threads. You can avoid it by setting the environment variable OMP_NUM_THREADS=1.\n",
      "  warnings.warn(\n"
     ]
    },
    {
     "data": {
      "text/plain": [
       "<function matplotlib.pyplot.show(close=None, block=None)>"
      ]
     },
     "execution_count": 58,
     "metadata": {},
     "output_type": "execute_result"
    },
    {
     "data": {
      "image/png": "[encoded data removed]",
      "text/plain": [
       "<Figure size 640x480 with 1 Axes>"
      ]
     },
     "metadata": {},
     "output_type": "display_data"
    }
   ],
   "source": [
    "# pca kmeans#elbow method\n",
    "wcss=[]\n",
    "for i in range(1,13):\n",
    "    kmeans=KMeans(n_clusters=i,init='k-means++',random_state=42)\n",
    "    kmeans.fit(data_pca)\n",
    "    wcss.append(kmeans.inertia_)\n",
    "plt.plot(range(1,13),wcss)    \n",
    "plt.title('the elbow method') \n",
    "plt.xlabel('no of clustures')\n",
    "plt.ylabel('wcss value')\n",
    "plt.show\n",
    "\n"
   ]
  },
  {
   "cell_type": "code",
   "execution_count": 59,
   "id": "5eef3385",
   "metadata": {},
   "outputs": [],
   "source": [
    "#select clusture as 3\n",
    "kmeans=KMeans(n_clusters=3,init='k-means++',random_state=42)\n",
    "y_kmeans3=kmeans.fit_predict(data_pca)"
   ]
  },
  {
   "cell_type": "code",
   "execution_count": 60,
   "id": "042d6e5c",
   "metadata": {},
   "outputs": [
    {
     "data": {
      "text/plain": [
       "array([1, 1, 1, 1, 2, 1, 1, 1, 1, 1, 1, 1, 1, 1, 1, 1, 1, 1, 1, 2, 2, 2,\n",
       "       1, 1, 2, 2, 1, 1, 2, 1, 1, 1, 1, 1, 1, 2, 2, 1, 1, 2, 2, 1, 1, 2,\n",
       "       2, 1, 1, 1, 1, 1, 1, 1, 1, 1, 1, 1, 1, 1, 1, 0, 2, 0, 2, 0, 0, 2,\n",
       "       0, 0, 2, 2, 2, 0, 0, 1, 2, 0, 0, 0, 2, 0, 0, 2, 2, 0, 0, 0, 0, 0,\n",
       "       2, 2, 0, 0, 0, 0, 0, 2, 2, 0, 2, 0, 2, 0, 0, 0, 2, 0, 0, 0, 0, 2,\n",
       "       0, 0, 2, 0, 0, 0, 0, 0, 0, 0, 2, 0, 0, 0, 0, 0, 0, 0, 0, 0, 2, 0,\n",
       "       0, 2, 2, 2, 2, 0, 0, 0, 2, 2, 0, 0, 2, 2, 0, 2, 2, 0, 0, 0, 0, 2,\n",
       "       2, 2, 0, 2, 2, 2, 0, 2, 0, 2, 2, 0, 2, 2, 2, 2, 0, 0, 2, 2, 2, 2,\n",
       "       2, 0])"
      ]
     },
     "execution_count": 60,
     "metadata": {},
     "output_type": "execute_result"
    }
   ],
   "source": [
    "y_kmeans3"
   ]
  },
  {
   "cell_type": "code",
   "execution_count": 61,
   "id": "9df1c708",
   "metadata": {},
   "outputs": [],
   "source": [
    "sil_avg3=silhouette_score(data,y_kmeans3)"
   ]
  },
  {
   "cell_type": "code",
   "execution_count": 62,
   "id": "516c7af5",
   "metadata": {},
   "outputs": [
    {
     "name": "stdout",
     "output_type": "stream",
     "text": [
      "silhouette score  0.571138193786884\n"
     ]
    }
   ],
   "source": [
    "print('silhouette score ',sil_avg3)"
   ]
  },
  {
   "cell_type": "code",
   "execution_count": 63,
   "id": "713b3322",
   "metadata": {},
   "outputs": [],
   "source": [
    "# DIMENSIONALITY REDUCTION HAS NO EFFECT"
   ]
  },
  {
   "cell_type": "code",
   "execution_count": 64,
   "id": "9617a688",
   "metadata": {},
   "outputs": [
    {
     "data": {
      "image/png": "[encoded data removed]",
      "text/plain": [
       "<Figure size 640x480 with 1 Axes>"
      ]
     },
     "metadata": {},
     "output_type": "display_data"
    }
   ],
   "source": [
    "endrogram=sch.dendrogram(sch.linkage(data_pca,method='ward'))\n",
    "plt.title('dendrogram')\n",
    "plt.xlabel('data points')\n",
    "plt.ylabel('euclidian dist')\n",
    "plt.show()"
   ]
  },
  {
   "cell_type": "code",
   "execution_count": 65,
   "id": "a70acbfb",
   "metadata": {},
   "outputs": [],
   "source": [
    "hc=AgglomerativeClustering(n_clusters=2,affinity='euclidean',linkage='ward')\n",
    "y_hc=hc.fit_predict(data_pca)"
   ]
  },
  {
   "cell_type": "code",
   "execution_count": 66,
   "id": "7716e7d8",
   "metadata": {},
   "outputs": [
    {
     "data": {
      "text/plain": [
       "0.653245953941322"
      ]
     },
     "execution_count": 66,
     "metadata": {},
     "output_type": "execute_result"
    }
   ],
   "source": [
    "sil_avg2=silhouette_score(data_pca,y_hc)\n",
    "sil_avg2"
   ]
  },
  {
   "cell_type": "code",
   "execution_count": 67,
   "id": "7ae6e739",
   "metadata": {},
   "outputs": [],
   "source": [
    "#dbscan after dimensionality reduction"
   ]
  },
  {
   "cell_type": "code",
   "execution_count": 68,
   "id": "c9d111df",
   "metadata": {},
   "outputs": [],
   "source": [
    "cluster = DBSCAN(eps=40, min_samples=6).fit(data_pca)\n"
   ]
  },
  {
   "cell_type": "code",
   "execution_count": 69,
   "id": "88e4c460",
   "metadata": {},
   "outputs": [],
   "source": [
    "c=cluster.labels_\n"
   ]
  },
  {
   "cell_type": "code",
   "execution_count": 70,
   "id": "fde60b6f",
   "metadata": {},
   "outputs": [],
   "source": [
    "sil_avg3=silhouette_score(data_pca,c)"
   ]
  },
  {
   "cell_type": "code",
   "execution_count": 71,
   "id": "289d2309",
   "metadata": {},
   "outputs": [
    {
     "data": {
      "text/plain": [
       "0.5451262427129375"
      ]
     },
     "execution_count": 71,
     "metadata": {},
     "output_type": "execute_result"
    }
   ],
   "source": [
    "sil_avg3"
   ]
  },
  {
   "cell_type": "code",
   "execution_count": 72,
   "id": "1337d7f6",
   "metadata": {},
   "outputs": [],
   "source": [
    "#dimensionality reduction does not have any chande on k means and very small effect on dbscan and agglomerative clustering"
   ]
  },
  {
   "cell_type": "code",
   "execution_count": null,
   "id": "7e478bbb",
   "metadata": {},
   "outputs": [],
   "source": []
  }
 ],
 "metadata": {
  "kernelspec": {
   "display_name": "Python 3 (ipykernel)",
   "language": "python",
   "name": "python3"
  },
  "language_info": {
   "codemirror_mode": {
    "name": "ipython",
    "version": 3
   },
   "file_extension": ".py",
   "mimetype": "text/x-python",
   "name": "python",
   "nbconvert_exporter": "python",
   "pygments_lexer": "ipython3",
   "version": "3.9.13"
  }
 },
 "nbformat": 4,
 "nbformat_minor": 5
}
